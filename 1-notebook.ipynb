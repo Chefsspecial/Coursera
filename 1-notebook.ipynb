{
 "cells": [
  {
   "cell_type": "markdown",
   "id": "4510c974-bc13-45ca-bfd5-b982f1c1fabc",
   "metadata": {},
   "source": [
    "<H1> The Title of the Notebook </H1>\n",
    "\n"
   ]
  },
  {
   "cell_type": "markdown",
   "id": "50bbfde8-27e8-4bd5-9d95-93f35b5c2d7c",
   "metadata": {},
   "source": [
    "This is the introduction of the notebook. I hope I am following the instructions clearly, as they are sometimes unclear to me."
   ]
  },
  {
   "cell_type": "markdown",
   "id": "e34b7f9b-a7e6-47f5-b608-642fc64129a7",
   "metadata": {},
   "source": [
    "This is a list of some data science languages:\n",
    "1. Python\n",
    "2. R\n",
    "3. SQL\n",
    "4. Java\n",
    "5. Scala\n",
    "6. Julia"
   ]
  },
  {
   "cell_type": "markdown",
   "id": "ccd3a3ad-40d7-467f-ac8c-88ca66074600",
   "metadata": {},
   "source": [
    "This is a list of data science libraries\n",
    "- Keras\n",
    "- Matplotlib\n",
    "- NumPy\n",
    "- Pandas\n",
    "- PyTorch\n",
    "- SciKit-Learn\n",
    "- SciPy\n",
    "- TensorFlow"
   ]
  },
  {
   "cell_type": "markdown",
   "id": "22239a5b-ac0f-40ee-a5d9-1bf3d48bb623",
   "metadata": {},
   "source": [
    "These are some of the data science tools:\n",
    "| Tool | Description |\n",
    "| --- | --- |\n",
    "| Jupyter Notebook | A web-based interactive development environment (IDE) used for data science, machine learning, and scientific computing. |\n",
    "| Git | Git is a distributed version control system used for tracking changes in code, collaborating with others, and managing software projects. |\n",
    "| Tableau | A business intelligence and data visualization tool used for exploring, analyzing, and presenting data in interactive dashboards. |"
   ]
  },
  {
   "cell_type": "markdown",
   "id": "a9632f7c-269c-4888-b339-28a393344aa0",
   "metadata": {},
   "source": [
    "This is markdown cell to introduce arithmetic expression examples:"
   ]
  },
  {
   "cell_type": "code",
   "execution_count": 10,
   "id": "782dde7e-957b-4c10-bd3e-31365e6f8fdd",
   "metadata": {},
   "outputs": [
    {
     "name": "stdout",
     "output_type": "stream",
     "text": [
      "10 25 12 6\n"
     ]
    }
   ],
   "source": [
    "x = 5+5\n",
    "y = 5*5 \n",
    "w = 3*4\n",
    "z = 4+2\n",
    "print(x, y, w, z)\n"
   ]
  },
  {
   "cell_type": "code",
   "execution_count": 14,
   "id": "28c60ac6-2bb2-4adf-83bd-8af9d564f93b",
   "metadata": {},
   "outputs": [
    {
     "data": {
      "text/plain": [
       "120"
      ]
     },
     "execution_count": 14,
     "metadata": {},
     "output_type": "execute_result"
    }
   ],
   "source": [
    "#convert hours to minutes, 2 hours in minutes =\n",
    "2*60 \n"
   ]
  },
  {
   "cell_type": "markdown",
   "id": "91fe86fe-b285-4ff3-815f-fdf19f0a929c",
   "metadata": {},
   "source": [
    "This is a markdown cell to list objectives\n",
    "- this is the list.\n",
    "- what kind of objectives? \n",
    "- my objective is to succeed in this course"
   ]
  },
  {
   "cell_type": "markdown",
   "id": "15bed8a6-0bde-4026-a6ff-b6941b82cf29",
   "metadata": {},
   "source": [
    "Author: Manon ten Have"
   ]
  },
  {
   "cell_type": "code",
   "execution_count": null,
   "id": "7d66194a-f9bb-4447-8191-6e49a7d84c09",
   "metadata": {},
   "outputs": [],
   "source": []
  }
 ],
 "metadata": {
  "kernelspec": {
   "display_name": "Python",
   "language": "python",
   "name": "conda-env-python-py"
  },
  "language_info": {
   "codemirror_mode": {
    "name": "ipython",
    "version": 3
   },
   "file_extension": ".py",
   "mimetype": "text/x-python",
   "name": "python",
   "nbconvert_exporter": "python",
   "pygments_lexer": "ipython3",
   "version": "3.7.12"
  }
 },
 "nbformat": 4,
 "nbformat_minor": 5
}
