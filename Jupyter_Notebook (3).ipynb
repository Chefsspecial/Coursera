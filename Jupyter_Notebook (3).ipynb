{
 "cells": [
  {
   "cell_type": "markdown",
   "metadata": {},
   "source": [
    "<center>\n",
    "    <img src=\"https://cf-courses-data.s3.us.cloud-object-storage.appdomain.cloud/IBMDeveloperSkillsNetwork-DS0105EN-SkillsNetwork/labs/Module2/images/SN_web_lightmode.png\" width=\"300\" alt=\"cognitiveclass.ai logo\"  />\n",
    "</center>\n"
   ]
  },
  {
   "cell_type": "markdown",
   "metadata": {},
   "source": [
    "#### Add your code below following the instructions given in the course\n"
   ]
  },
  {
   "cell_type": "markdown",
   "metadata": {},
   "source": [
    "<H1> My Jupyter Notebook on IBM Watson Studio</H1>"
   ]
  },
  {
   "cell_type": "markdown",
   "metadata": {},
   "source": [
    "**Manon ten Have**\n",
    "<br> Data Analyst"
   ]
  },
  {
   "cell_type": "markdown",
   "metadata": {},
   "source": [
    "*I am interested in data science because I find working with data exciting, enjoy solving complex problems, and am intellectually curious about the field. As someone who is drawn to puzzles and enjoys digging into data to uncover insights, data science feels like a natural fit for me. I am eager to learn more about the mathematical and statistical techniques used in data science, as well as the programming languages and tools commonly used by data scientists. Ultimately, I am excited about the potential to use data science to make meaningful contributions to a wide range of fields.*"
   ]
  },
  {
   "cell_type": "code",
   "execution_count": 1,
   "metadata": {},
   "outputs": [
    {
     "name": "stdout",
     "output_type": "stream",
     "text": [
      "7.0\n"
     ]
    }
   ],
   "source": [
    "# Prices of fruit\n",
    "oranges = 2\n",
    "apple = 0.5\n",
    "grapes = 3.5\n",
    "banana = 1\n",
    "\n",
    "# How can I calculate my total shopping expense?\n",
    "expense = oranges + apple + grapes + banana\n",
    "\n",
    "# Print the result\n",
    "print(expense)"
   ]
  },
  {
   "cell_type": "markdown",
   "metadata": {},
   "source": [
    "~~Reasons not to buy fruit~~\n",
    "\n",
    "Reasons to buy fruit:\n",
    "1. Fruits are delicious\n",
    "2. Fruits are healthy\n",
    "3. Fruits make your brain happy\n",
    "4. Fruits also have sugar\n",
    "\n",
    "Here is a link to a picture of my favorite fruit:\n",
    "\"[strawberries](\n",
    "https://www.bing.com/images/search?view=detailV2&ccid=oSY8Dw8f&id=6AFB0661468A0E0316141B194403B3D647A29ED9&thid=OIP.oSY8Dw8fVAdN_9qj5njoqQHaE9&mediaurl=https%3a%2f%2fth.bing.com%2fth%2fid%2fR.a1263c0f0f1f54074dffdaa3e678e8a9%3frik%3d2Z6iR9azA0QZGw%26riu%3dhttp%253a%252f%252fwww.wur.nl%252fupload%252fc015d82c-fb57-4828-b739-87bdae40d299_aardbei.jpg%26ehk%3dPXFUydSoXx9YMqbFjVIkm7Wip9%252fH6AVVpogUTUGxvhE%253d%26risl%3d%26pid%3dImgRaw%26r%3d0&exph=669&expw=1000&q=aardbei&simid=608055009105686914&FORM=IRPRST&ck=F8EC671FECD0C1CCE6A9C97B322ABADA&selectedIndex=12&ajaxhist=0&ajaxserp=0)\""
   ]
  }
 ],
 "metadata": {
  "kernelspec": {
   "display_name": "Python",
   "language": "python",
   "name": "conda-env-python-py"
  },
  "language_info": {
   "codemirror_mode": {
    "name": "ipython",
    "version": 3
   },
   "file_extension": ".py",
   "mimetype": "text/x-python",
   "name": "python",
   "nbconvert_exporter": "python",
   "pygments_lexer": "ipython3",
   "version": "3.7.12"
  }
 },
 "nbformat": 4,
 "nbformat_minor": 4
}
